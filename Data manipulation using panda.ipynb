{
 "cells": [
  {
   "cell_type": "code",
   "execution_count": 65,
   "metadata": {},
   "outputs": [
    {
     "name": "stdout",
     "output_type": "stream",
     "text": [
      "0.23.4\n"
     ]
    }
   ],
   "source": [
    "# 1. Import pandas and check version\n",
    "import pandas as pd\n",
    "print(pd.__version__)"
   ]
  },
  {
   "cell_type": "code",
   "execution_count": 8,
   "metadata": {},
   "outputs": [
    {
     "name": "stdout",
     "output_type": "stream",
     "text": [
      "Series1=\n",
      "0    1\n",
      "1    2\n",
      "2    3\n",
      "3    4\n",
      "4    5\n",
      "5    6\n",
      "6    7\n",
      "7    8\n",
      "8    9\n",
      "dtype: int32\n",
      "Series2=\n",
      "0    a\n",
      "1    b\n",
      "2    c\n",
      "3    d\n",
      "4    e\n",
      "5    f\n",
      "6    g\n",
      "7    h\n",
      "dtype: object\n",
      "Series3=\n",
      "A    10\n",
      "B    20\n",
      "C    30\n",
      "dtype: int64\n"
     ]
    }
   ],
   "source": [
    "# 2. Creating pandas series\n",
    "import numpy as np\n",
    "np_arr=np.arange(1,10)\n",
    "lst=list(\"abcdefgh\")\n",
    "diction={'A':10,'B':20,'C':30}\n",
    "\n",
    "series1=pd.Series(np_arr)\n",
    "series2=pd.Series(lst)\n",
    "series3=pd.Series(diction)\n",
    "print('Series1=\\n{}'.format(series1))\n",
    "print('Series2=\\n{}'.format(series2))\n",
    "print('Series3=\\n{}'.format(series3))"
   ]
  },
  {
   "cell_type": "code",
   "execution_count": 11,
   "metadata": {},
   "outputs": [
    {
     "name": "stdout",
     "output_type": "stream",
     "text": [
      "    index  0\n",
      "0       0  P\n",
      "1       1  a\n",
      "2       2  n\n",
      "3       3  d\n",
      "4       4  a\n",
      "5       5  s\n",
      "6       6  M\n",
      "7       7  a\n",
      "8       8  n\n",
      "9       9  i\n",
      "10     10  p\n",
      "11     11  u\n",
      "12     12  l\n",
      "13     13  a\n",
      "14     14  t\n",
      "15     15  i\n",
      "16     16  o\n",
      "17     17  n\n",
      "    index  0\n",
      "0       0  P\n",
      "1       1  a\n",
      "2       2  n\n",
      "3       3  d\n",
      "4       4  a\n",
      "5       5  s\n",
      "6       6  M\n",
      "7       7  a\n",
      "8       8  n\n",
      "9       9  i\n",
      "10     10  p\n",
      "11     11  u\n",
      "12     12  l\n",
      "13     13  a\n",
      "14     14  t\n",
      "15     15  i\n",
      "16     16  o\n",
      "17     17  n\n"
     ]
    }
   ],
   "source": [
    "# 3.Convert index of series and series into a dataframe\n",
    "lst = list('PandasManipulation')\n",
    "series1 = pd.Series(lst)\n",
    "\n",
    "# solution 1\n",
    "data_frame = pd.DataFrame(series1).reset_index()\n",
    "print(data_frame)\n",
    "\n",
    "# solution 2\n",
    "data_frame = series1.to_frame().reset_index()\n",
    "print(data_frame)"
   ]
  },
  {
   "cell_type": "code",
   "execution_count": 21,
   "metadata": {},
   "outputs": [
    {
     "name": "stdout",
     "output_type": "stream",
     "text": [
      "   index Values\n",
      "0      0      P\n",
      "1      1      a\n",
      "2      2      n\n",
      "3      3      d\n",
      "4      4      a\n",
      "5      5      s\n",
      "   index  0\n",
      "0      0  P\n",
      "1      1  a\n",
      "2      2  n\n",
      "3      3  d\n",
      "4      4  a\n",
      "5      5  s\n",
      "   0  1\n",
      "0  0  P\n",
      "1  1  a\n",
      "2  2  n\n",
      "3  3  d\n",
      "4  4  a\n",
      "5  5  s\n"
     ]
    }
   ],
   "source": [
    "# 4.Combine series to form DataFrame\n",
    "series1 = pd.Series(list(\"Pandas\"))\n",
    "series2 = pd.Series(np.arange(6))\n",
    "\n",
    "# solution 1\n",
    "df1 = pd.DataFrame({\"index\" : series2, \"Values\" : series1})\n",
    "print(df1)\n",
    "\n",
    "# solution 2\n",
    "df2 = pd.DataFrame(series1,series2).reset_index()\n",
    "print(df2)\n",
    "\n",
    "# solution 3\n",
    "df3 = pd.concat([series2,series1],axis=1)\n",
    "print(df3)"
   ]
  },
  {
   "cell_type": "code",
   "execution_count": 23,
   "metadata": {},
   "outputs": [
    {
     "name": "stdout",
     "output_type": "stream",
     "text": [
      "0    Pandas\n",
      "Name: lib, dtype: object\n",
      "0    Pandas\n",
      "Name: lib, dtype: object\n"
     ]
    }
   ],
   "source": [
    "# 5.Give name to a series\n",
    "series1 = pd.Series('Pandas')\n",
    "\n",
    "# solution 1\n",
    "series1=series1.rename('lib')\n",
    "print(series1)\n",
    "\n",
    "# solution 2\n",
    "series1.name = 'lib'\n",
    "print(series1)"
   ]
  },
  {
   "cell_type": "code",
   "execution_count": 26,
   "metadata": {},
   "outputs": [
    {
     "data": {
      "text/plain": [
       "0    0\n",
       "1    1\n",
       "2    2\n",
       "3    3\n",
       "4    4\n",
       "5    5\n",
       "dtype: int32"
      ]
     },
     "execution_count": 26,
     "metadata": {},
     "output_type": "execute_result"
    }
   ],
   "source": [
    "# 6. Get all the items of series1 not present in series2\n",
    "series1 = pd.Series(np.arange(10))\n",
    "series2 = pd.Series(np.arange(6,13))\n",
    "\n",
    "ser1_not_ser2 = series1[~series1.isin(series2)]\n",
    "ser1_not_ser2"
   ]
  },
  {
   "cell_type": "code",
   "execution_count": 30,
   "metadata": {},
   "outputs": [
    {
     "name": "stdout",
     "output_type": "stream",
     "text": [
      "0     0\n",
      "1     1\n",
      "2     2\n",
      "3     3\n",
      "4     4\n",
      "5     5\n",
      "4    10\n",
      "5    11\n",
      "6    12\n",
      "dtype: int32\n"
     ]
    }
   ],
   "source": [
    "# 7. Get all items which are not common to both series\n",
    "\n",
    "ser2_not_ser1 = series2[~series2.isin(series1)]\n",
    "not_common = ser1_not_ser2.append(ser2_not_ser1)\n",
    "print(not_common)"
   ]
  },
  {
   "cell_type": "code",
   "execution_count": 32,
   "metadata": {},
   "outputs": [
    {
     "data": {
      "text/plain": [
       "count    101.000000\n",
       "mean      50.000000\n",
       "std       29.300171\n",
       "min        0.000000\n",
       "25%       25.000000\n",
       "50%       50.000000\n",
       "75%       75.000000\n",
       "max      100.000000\n",
       "dtype: float64"
      ]
     },
     "execution_count": 32,
     "metadata": {},
     "output_type": "execute_result"
    }
   ],
   "source": [
    "# 8. find min, max,count, percentile \n",
    "series1 = pd.Series(np.arange(101))\n",
    "series1.describe()"
   ]
  },
  {
   "cell_type": "code",
   "execution_count": 33,
   "metadata": {},
   "outputs": [
    {
     "data": {
      "text/plain": [
       "i    4\n",
       "s    4\n",
       "p    2\n",
       "m    1\n",
       "dtype: int64"
      ]
     },
     "execution_count": 33,
     "metadata": {},
     "output_type": "execute_result"
    }
   ],
   "source": [
    "# 9.Find unique count of each value in series\n",
    "series1 = pd.Series(list(\"mississippi\"))\n",
    "series1.value_counts()"
   ]
  },
  {
   "cell_type": "code",
   "execution_count": 34,
   "metadata": {},
   "outputs": [
    {
     "data": {
      "text/plain": [
       "0     others\n",
       "1          i\n",
       "2          s\n",
       "3          s\n",
       "4          i\n",
       "5          s\n",
       "6          s\n",
       "7          i\n",
       "8     others\n",
       "9     others\n",
       "10         i\n",
       "dtype: object"
      ]
     },
     "execution_count": 34,
     "metadata": {},
     "output_type": "execute_result"
    }
   ],
   "source": [
    "# 10. Only keep the top 2 values and replace all else with others\n",
    "series1[~series1.isin(series1.value_counts().index[:2])] = 'others'\n",
    "series1"
   ]
  },
  {
   "cell_type": "code",
   "execution_count": 37,
   "metadata": {},
   "outputs": [
    {
     "data": {
      "text/plain": [
       "0      (-0.001, 11.111]\n",
       "1      (-0.001, 11.111]\n",
       "2      (-0.001, 11.111]\n",
       "3      (-0.001, 11.111]\n",
       "4      (-0.001, 11.111]\n",
       "5      (-0.001, 11.111]\n",
       "6      (-0.001, 11.111]\n",
       "7      (-0.001, 11.111]\n",
       "8      (-0.001, 11.111]\n",
       "9      (-0.001, 11.111]\n",
       "10     (-0.001, 11.111]\n",
       "11     (-0.001, 11.111]\n",
       "12     (11.111, 22.222]\n",
       "13     (11.111, 22.222]\n",
       "14     (11.111, 22.222]\n",
       "15     (11.111, 22.222]\n",
       "16     (11.111, 22.222]\n",
       "17     (11.111, 22.222]\n",
       "18     (11.111, 22.222]\n",
       "19     (11.111, 22.222]\n",
       "20     (11.111, 22.222]\n",
       "21     (11.111, 22.222]\n",
       "22     (11.111, 22.222]\n",
       "23     (22.222, 33.333]\n",
       "24     (22.222, 33.333]\n",
       "25     (22.222, 33.333]\n",
       "26     (22.222, 33.333]\n",
       "27     (22.222, 33.333]\n",
       "28     (22.222, 33.333]\n",
       "29     (22.222, 33.333]\n",
       "             ...       \n",
       "71     (66.667, 77.778]\n",
       "72     (66.667, 77.778]\n",
       "73     (66.667, 77.778]\n",
       "74     (66.667, 77.778]\n",
       "75     (66.667, 77.778]\n",
       "76     (66.667, 77.778]\n",
       "77     (66.667, 77.778]\n",
       "78     (77.778, 88.889]\n",
       "79     (77.778, 88.889]\n",
       "80     (77.778, 88.889]\n",
       "81     (77.778, 88.889]\n",
       "82     (77.778, 88.889]\n",
       "83     (77.778, 88.889]\n",
       "84     (77.778, 88.889]\n",
       "85     (77.778, 88.889]\n",
       "86     (77.778, 88.889]\n",
       "87     (77.778, 88.889]\n",
       "88     (77.778, 88.889]\n",
       "89      (88.889, 100.0]\n",
       "90      (88.889, 100.0]\n",
       "91      (88.889, 100.0]\n",
       "92      (88.889, 100.0]\n",
       "93      (88.889, 100.0]\n",
       "94      (88.889, 100.0]\n",
       "95      (88.889, 100.0]\n",
       "96      (88.889, 100.0]\n",
       "97      (88.889, 100.0]\n",
       "98      (88.889, 100.0]\n",
       "99      (88.889, 100.0]\n",
       "100     (88.889, 100.0]\n",
       "Length: 101, dtype: category\n",
       "Categories (9, interval[float64]): [(-0.001, 11.111] < (11.111, 22.222] < (22.222, 33.333] < (33.333, 44.444] ... (55.556, 66.667] < (66.667, 77.778] < (77.778, 88.889] < (88.889, 100.0]]"
      ]
     },
     "execution_count": 37,
     "metadata": {},
     "output_type": "execute_result"
    }
   ],
   "source": [
    "# 11.Divide the series in 10 bins of equal sizes\n",
    "series1 = pd.Series(np.arange(101))\n",
    "series1 = pd.qcut(series1,q=9)\n",
    "series1"
   ]
  },
  {
   "cell_type": "code",
   "execution_count": 39,
   "metadata": {},
   "outputs": [
    {
     "name": "stdout",
     "output_type": "stream",
     "text": [
      "   0  1  2  3  4\n",
      "0  7  9  4  9  9\n",
      "1  5  6  2  6  1\n",
      "2  3  9  9  2  6\n",
      "3  4  1  6  8  5\n",
      "4  4  4  5  3  7\n",
      "5  1  7  5  6  9\n",
      "6  4  8  5  2  2\n",
      "\n",
      "\n",
      "   0  1  2  3  4\n",
      "0  7  9  4  9  9\n",
      "1  5  6  2  6  1\n",
      "2  3  9  9  2  6\n",
      "3  4  1  6  8  5\n",
      "4  4  4  5  3  7\n",
      "5  1  7  5  6  9\n",
      "6  4  8  5  2  2\n"
     ]
    }
   ],
   "source": [
    "# 12. Convert numpy array to DataFrame of given shape\n",
    "series1 = pd.Series(np.random.randint(1,10,35))\n",
    "\n",
    "#solution 1\n",
    "df = pd.DataFrame(series1.values.reshape(7,5))\n",
    "print(df)\n",
    "print(\"\\n\")\n",
    "\n",
    "#solution 2\n",
    "df = pd.DataFrame(np.array(series1).reshape(7,5))\n",
    "print(df)"
   ]
  },
  {
   "cell_type": "code",
   "execution_count": 42,
   "metadata": {},
   "outputs": [
    {
     "data": {
      "text/plain": [
       "3    3.0\n",
       "4    6.0\n",
       "9    3.0\n",
       "dtype: float64"
      ]
     },
     "execution_count": 42,
     "metadata": {},
     "output_type": "execute_result"
    }
   ],
   "source": [
    "# 13. Find position of numbers which are multiple of 3 in a series\n",
    "series1 = pd.Series(np.random.randint(1,7,10))\n",
    "series1.where(lambda x:x%3==0).dropna()"
   ]
  },
  {
   "cell_type": "code",
   "execution_count": 44,
   "metadata": {},
   "outputs": [
    {
     "name": "stdout",
     "output_type": "stream",
     "text": [
      "0    4\n",
      "2    4\n",
      "4    6\n",
      "6    1\n",
      "dtype: int32\n",
      "0    4\n",
      "2    4\n",
      "4    6\n",
      "6    1\n",
      "dtype: int32\n"
     ]
    }
   ],
   "source": [
    "# 14. Extrac item at a given position from a series\n",
    "pos = [0,2,4,6]\n",
    "\n",
    "#solution 1\n",
    "print(series1.loc[pos])\n",
    "\n",
    "#solution 2\n",
    "print(series1.take(pos))"
   ]
  },
  {
   "cell_type": "code",
   "execution_count": 48,
   "metadata": {},
   "outputs": [
    {
     "data": {
      "text/html": [
       "<div>\n",
       "<style scoped>\n",
       "    .dataframe tbody tr th:only-of-type {\n",
       "        vertical-align: middle;\n",
       "    }\n",
       "\n",
       "    .dataframe tbody tr th {\n",
       "        vertical-align: top;\n",
       "    }\n",
       "\n",
       "    .dataframe thead th {\n",
       "        text-align: right;\n",
       "    }\n",
       "</style>\n",
       "<table border=\"1\" class=\"dataframe\">\n",
       "  <thead>\n",
       "    <tr style=\"text-align: right;\">\n",
       "      <th></th>\n",
       "      <th>0</th>\n",
       "      <th>1</th>\n",
       "    </tr>\n",
       "  </thead>\n",
       "  <tbody>\n",
       "    <tr>\n",
       "      <th>0</th>\n",
       "      <td>0</td>\n",
       "      <td>4</td>\n",
       "    </tr>\n",
       "    <tr>\n",
       "      <th>1</th>\n",
       "      <td>1</td>\n",
       "      <td>5</td>\n",
       "    </tr>\n",
       "    <tr>\n",
       "      <th>2</th>\n",
       "      <td>2</td>\n",
       "      <td>6</td>\n",
       "    </tr>\n",
       "    <tr>\n",
       "      <th>3</th>\n",
       "      <td>3</td>\n",
       "      <td>7</td>\n",
       "    </tr>\n",
       "  </tbody>\n",
       "</table>\n",
       "</div>"
      ],
      "text/plain": [
       "   0  1\n",
       "0  0  4\n",
       "1  1  5\n",
       "2  2  6\n",
       "3  3  7"
      ]
     },
     "execution_count": 48,
     "metadata": {},
     "output_type": "execute_result"
    }
   ],
   "source": [
    "# 15. stack series horizontally and vertically to form dataframe\n",
    "series1 = pd.Series(np.arange(4))\n",
    "series2 = pd.Series(np.arange(4,8))\n",
    "pd.concat([series1,series2],axis=0) # horizontally\n",
    "pd.concat([series1,series2],axis=1) # vertically"
   ]
  },
  {
   "cell_type": "code",
   "execution_count": 64,
   "metadata": {},
   "outputs": [
    {
     "name": "stdout",
     "output_type": "stream",
     "text": [
      "[6, 7, 8, 9]\n"
     ]
    },
    {
     "ename": "KeyError",
     "evalue": "10",
     "output_type": "error",
     "traceback": [
      "\u001b[1;31m---------------------------------------------------------------------------\u001b[0m",
      "\u001b[1;31mKeyError\u001b[0m                                  Traceback (most recent call last)",
      "\u001b[1;32m~\\Anaconda3\\lib\\site-packages\\pandas\\core\\indexes\\base.py\u001b[0m in \u001b[0;36mget_loc\u001b[1;34m(self, key, method, tolerance)\u001b[0m\n\u001b[0;32m   3077\u001b[0m             \u001b[1;32mtry\u001b[0m\u001b[1;33m:\u001b[0m\u001b[1;33m\u001b[0m\u001b[1;33m\u001b[0m\u001b[0m\n\u001b[1;32m-> 3078\u001b[1;33m                 \u001b[1;32mreturn\u001b[0m \u001b[0mself\u001b[0m\u001b[1;33m.\u001b[0m\u001b[0m_engine\u001b[0m\u001b[1;33m.\u001b[0m\u001b[0mget_loc\u001b[0m\u001b[1;33m(\u001b[0m\u001b[0mkey\u001b[0m\u001b[1;33m)\u001b[0m\u001b[1;33m\u001b[0m\u001b[1;33m\u001b[0m\u001b[0m\n\u001b[0m\u001b[0;32m   3079\u001b[0m             \u001b[1;32mexcept\u001b[0m \u001b[0mKeyError\u001b[0m\u001b[1;33m:\u001b[0m\u001b[1;33m\u001b[0m\u001b[1;33m\u001b[0m\u001b[0m\n",
      "\u001b[1;32mpandas\\_libs\\index.pyx\u001b[0m in \u001b[0;36mpandas._libs.index.IndexEngine.get_loc\u001b[1;34m()\u001b[0m\n",
      "\u001b[1;32mpandas\\_libs\\index.pyx\u001b[0m in \u001b[0;36mpandas._libs.index.IndexEngine.get_loc\u001b[1;34m()\u001b[0m\n",
      "\u001b[1;32mpandas\\_libs\\hashtable_class_helper.pxi\u001b[0m in \u001b[0;36mpandas._libs.hashtable.Int64HashTable.get_item\u001b[1;34m()\u001b[0m\n",
      "\u001b[1;32mpandas\\_libs\\hashtable_class_helper.pxi\u001b[0m in \u001b[0;36mpandas._libs.hashtable.Int64HashTable.get_item\u001b[1;34m()\u001b[0m\n",
      "\u001b[1;31mKeyError\u001b[0m: 10",
      "\nDuring handling of the above exception, another exception occurred:\n",
      "\u001b[1;31mKeyError\u001b[0m                                  Traceback (most recent call last)",
      "\u001b[1;32m<ipython-input-64-7056fef9ae26>\u001b[0m in \u001b[0;36m<module>\u001b[1;34m\u001b[0m\n\u001b[0;32m      7\u001b[0m \u001b[1;33m\u001b[0m\u001b[0m\n\u001b[0;32m      8\u001b[0m \u001b[1;31m#solution 2\u001b[0m\u001b[1;33m\u001b[0m\u001b[1;33m\u001b[0m\u001b[1;33m\u001b[0m\u001b[0m\n\u001b[1;32m----> 9\u001b[1;33m \u001b[1;33m[\u001b[0m\u001b[0mpd\u001b[0m\u001b[1;33m.\u001b[0m\u001b[0mIndex\u001b[0m\u001b[1;33m(\u001b[0m\u001b[0mseries1\u001b[0m\u001b[1;33m)\u001b[0m\u001b[1;33m.\u001b[0m\u001b[0mget_loc\u001b[0m\u001b[1;33m(\u001b[0m\u001b[0mi\u001b[0m\u001b[1;33m)\u001b[0m \u001b[1;32mfor\u001b[0m \u001b[0mi\u001b[0m \u001b[1;32min\u001b[0m \u001b[0mseries2\u001b[0m\u001b[1;33m]\u001b[0m\u001b[1;33m\u001b[0m\u001b[1;33m\u001b[0m\u001b[0m\n\u001b[0m\u001b[0;32m     10\u001b[0m \u001b[1;33m\u001b[0m\u001b[0m\n",
      "\u001b[1;32m<ipython-input-64-7056fef9ae26>\u001b[0m in \u001b[0;36m<listcomp>\u001b[1;34m(.0)\u001b[0m\n\u001b[0;32m      7\u001b[0m \u001b[1;33m\u001b[0m\u001b[0m\n\u001b[0;32m      8\u001b[0m \u001b[1;31m#solution 2\u001b[0m\u001b[1;33m\u001b[0m\u001b[1;33m\u001b[0m\u001b[1;33m\u001b[0m\u001b[0m\n\u001b[1;32m----> 9\u001b[1;33m \u001b[1;33m[\u001b[0m\u001b[0mpd\u001b[0m\u001b[1;33m.\u001b[0m\u001b[0mIndex\u001b[0m\u001b[1;33m(\u001b[0m\u001b[0mseries1\u001b[0m\u001b[1;33m)\u001b[0m\u001b[1;33m.\u001b[0m\u001b[0mget_loc\u001b[0m\u001b[1;33m(\u001b[0m\u001b[0mi\u001b[0m\u001b[1;33m)\u001b[0m \u001b[1;32mfor\u001b[0m \u001b[0mi\u001b[0m \u001b[1;32min\u001b[0m \u001b[0mseries2\u001b[0m\u001b[1;33m]\u001b[0m\u001b[1;33m\u001b[0m\u001b[1;33m\u001b[0m\u001b[0m\n\u001b[0m\u001b[0;32m     10\u001b[0m \u001b[1;33m\u001b[0m\u001b[0m\n",
      "\u001b[1;32m~\\Anaconda3\\lib\\site-packages\\pandas\\core\\indexes\\base.py\u001b[0m in \u001b[0;36mget_loc\u001b[1;34m(self, key, method, tolerance)\u001b[0m\n\u001b[0;32m   3078\u001b[0m                 \u001b[1;32mreturn\u001b[0m \u001b[0mself\u001b[0m\u001b[1;33m.\u001b[0m\u001b[0m_engine\u001b[0m\u001b[1;33m.\u001b[0m\u001b[0mget_loc\u001b[0m\u001b[1;33m(\u001b[0m\u001b[0mkey\u001b[0m\u001b[1;33m)\u001b[0m\u001b[1;33m\u001b[0m\u001b[1;33m\u001b[0m\u001b[0m\n\u001b[0;32m   3079\u001b[0m             \u001b[1;32mexcept\u001b[0m \u001b[0mKeyError\u001b[0m\u001b[1;33m:\u001b[0m\u001b[1;33m\u001b[0m\u001b[1;33m\u001b[0m\u001b[0m\n\u001b[1;32m-> 3080\u001b[1;33m                 \u001b[1;32mreturn\u001b[0m \u001b[0mself\u001b[0m\u001b[1;33m.\u001b[0m\u001b[0m_engine\u001b[0m\u001b[1;33m.\u001b[0m\u001b[0mget_loc\u001b[0m\u001b[1;33m(\u001b[0m\u001b[0mself\u001b[0m\u001b[1;33m.\u001b[0m\u001b[0m_maybe_cast_indexer\u001b[0m\u001b[1;33m(\u001b[0m\u001b[0mkey\u001b[0m\u001b[1;33m)\u001b[0m\u001b[1;33m)\u001b[0m\u001b[1;33m\u001b[0m\u001b[1;33m\u001b[0m\u001b[0m\n\u001b[0m\u001b[0;32m   3081\u001b[0m \u001b[1;33m\u001b[0m\u001b[0m\n\u001b[0;32m   3082\u001b[0m         \u001b[0mindexer\u001b[0m \u001b[1;33m=\u001b[0m \u001b[0mself\u001b[0m\u001b[1;33m.\u001b[0m\u001b[0mget_indexer\u001b[0m\u001b[1;33m(\u001b[0m\u001b[1;33m[\u001b[0m\u001b[0mkey\u001b[0m\u001b[1;33m]\u001b[0m\u001b[1;33m,\u001b[0m \u001b[0mmethod\u001b[0m\u001b[1;33m=\u001b[0m\u001b[0mmethod\u001b[0m\u001b[1;33m,\u001b[0m \u001b[0mtolerance\u001b[0m\u001b[1;33m=\u001b[0m\u001b[0mtolerance\u001b[0m\u001b[1;33m)\u001b[0m\u001b[1;33m\u001b[0m\u001b[1;33m\u001b[0m\u001b[0m\n",
      "\u001b[1;32mpandas\\_libs\\index.pyx\u001b[0m in \u001b[0;36mpandas._libs.index.IndexEngine.get_loc\u001b[1;34m()\u001b[0m\n",
      "\u001b[1;32mpandas\\_libs\\index.pyx\u001b[0m in \u001b[0;36mpandas._libs.index.IndexEngine.get_loc\u001b[1;34m()\u001b[0m\n",
      "\u001b[1;32mpandas\\_libs\\hashtable_class_helper.pxi\u001b[0m in \u001b[0;36mpandas._libs.hashtable.Int64HashTable.get_item\u001b[1;34m()\u001b[0m\n",
      "\u001b[1;32mpandas\\_libs\\hashtable_class_helper.pxi\u001b[0m in \u001b[0;36mpandas._libs.hashtable.Int64HashTable.get_item\u001b[1;34m()\u001b[0m\n",
      "\u001b[1;31mKeyError\u001b[0m: 10"
     ]
    }
   ],
   "source": [
    "# 16. Get position of items of Series 1 in series 2\n",
    "series1 = pd.Series(np.arange(10))\n",
    "series2 = pd.Series(np.arange(6,15))\n",
    "\n",
    "#solution 1\n",
    "print(list(series1[series1.isin(series2)].index))\n",
    "\n",
    "#solution 2\n",
    "[pd.Index(series1).get_loc(i) for i in series2]\n",
    "\n"
   ]
  },
  {
   "cell_type": "code",
   "execution_count": null,
   "metadata": {},
   "outputs": [],
   "source": []
  }
 ],
 "metadata": {
  "kernelspec": {
   "display_name": "Python 3",
   "language": "python",
   "name": "python3"
  },
  "language_info": {
   "codemirror_mode": {
    "name": "ipython",
    "version": 3
   },
   "file_extension": ".py",
   "mimetype": "text/x-python",
   "name": "python",
   "nbconvert_exporter": "python",
   "pygments_lexer": "ipython3",
   "version": "3.7.1"
  }
 },
 "nbformat": 4,
 "nbformat_minor": 2
}
